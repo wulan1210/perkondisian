{
  "cells": [
    {
      "cell_type": "markdown",
      "metadata": {
        "id": "view-in-github",
        "colab_type": "text"
      },
      "source": [
        "<a href=\"https://colab.research.google.com/github/wulan1210/perkondisian/blob/main/Wulandari%20Maulina.ipynb\" target=\"_parent\"><img src=\"https://colab.research.google.com/assets/colab-badge.svg\" alt=\"Open In Colab\"/></a>"
      ]
    },
    {
      "cell_type": "code",
      "source": [
        "def nama_fungsi():\n",
        "    print (\"Hello ini Fungsi\")"
      ],
      "metadata": {
        "id": "IIQv-MFdG1dH"
      },
      "execution_count": 20,
      "outputs": []
    },
    {
      "cell_type": "code",
      "source": [
        "# Membuat Fungsi\n",
        "def salam():\n",
        "    print (\"Hello, Selamat Pagi\")\n",
        "\n",
        "## Pemanggilan Fungsi\n",
        "salam()"
      ],
      "metadata": {
        "colab": {
          "base_uri": "https://localhost:8080/"
        },
        "id": "q90orz1mHRy0",
        "outputId": "3e1233bf-5f04-40d5-92a6-374e4b8dd0b6"
      },
      "execution_count": 21,
      "outputs": [
        {
          "output_type": "stream",
          "name": "stdout",
          "text": [
            "Hello, Selamat Pagi\n"
          ]
        }
      ]
    },
    {
      "cell_type": "code",
      "source": [
        "# Membuat Fungsi\n",
        "def salam():\n",
        "    print (\"Hello, Selamat Pagi\")\n",
        "\n",
        "## Pemanggilan Fungsi\n",
        "salam()\n",
        "salam()\n",
        "salam()"
      ],
      "metadata": {
        "colab": {
          "base_uri": "https://localhost:8080/"
        },
        "id": "p2A_CUNKHdZO",
        "outputId": "4a3b6bb9-0327-4d2c-b400-cb9474340674"
      },
      "execution_count": 22,
      "outputs": [
        {
          "output_type": "stream",
          "name": "stdout",
          "text": [
            "Hello, Selamat Pagi\n",
            "Hello, Selamat Pagi\n",
            "Hello, Selamat Pagi\n"
          ]
        }
      ]
    },
    {
      "cell_type": "code",
      "source": [
        "def salam(ucapan):\n",
        "    print(ucapan)"
      ],
      "metadata": {
        "id": "y42peU6OHn3C"
      },
      "execution_count": 23,
      "outputs": []
    },
    {
      "cell_type": "code",
      "source": [
        "# Membuat fungsi dengan parameter\n",
        "def luas_segitiga(alas, tinggi):\n",
        "    luas = (alas * tinggi) / 2\n",
        "    print (\"Luas segitiga: %f\" % luas);\n",
        "\n",
        "# Pemanggilan fungsi\n",
        "luas_segitiga(4, 6)\n"
      ],
      "metadata": {
        "colab": {
          "base_uri": "https://localhost:8080/"
        },
        "id": "WYp-IB-jHsug",
        "outputId": "f60a46b1-05e8-4ba3-fd17-d8fdc4249e92"
      },
      "execution_count": 24,
      "outputs": [
        {
          "output_type": "stream",
          "name": "stdout",
          "text": [
            "Luas segitiga: 12.000000\n"
          ]
        }
      ]
    },
    {
      "cell_type": "code",
      "source": [
        "def luas_persegi(sisi):\n",
        "    luas = sisi * sisi\n",
        "    return luas\n",
        "\n",
        "# pemanggilan fungsi\n",
        "print (\"Luas persegi: %d\" % luas_persegi(6))\n"
      ],
      "metadata": {
        "colab": {
          "base_uri": "https://localhost:8080/"
        },
        "id": "eEm8ABNoH6YO",
        "outputId": "262b3051-b021-42fc-9a09-487440cabaff"
      },
      "execution_count": 25,
      "outputs": [
        {
          "output_type": "stream",
          "name": "stdout",
          "text": [
            "Luas persegi: 36\n"
          ]
        }
      ]
    },
    {
      "cell_type": "code",
      "source": [
        "# rumus: sisi x sisi\n",
        "def luas_persegi(sisi):\n",
        "    luas = sisi * sisi\n",
        "    return luas\n",
        "\n",
        "\n",
        "# rumus: sisi x sisi x sisi\n",
        "def volume_persegi(sisi):\n",
        "    volume = luas_persegi(sisi) * sisi\n"
      ],
      "metadata": {
        "id": "yxQra9hbIGa-"
      },
      "execution_count": 26,
      "outputs": []
    },
    {
      "cell_type": "code",
      "source": [
        "# membuat variabel global\n",
        "nama = \"wulandari Maulina\"\n",
        "versi = \"1.0.0\"\n",
        "\n",
        "def help():\n",
        "    # ini variabel lokal\n",
        "    nama = \"Programku\"\n",
        "    versi = \"1.0.2\"\n",
        "    # mengakses variabel lokal\n",
        "    print (\"Nama: %s\" % nama)\n",
        "    print (\"Versi: %s\" % versi)\n",
        "\n",
        "\n",
        "# mengakses variabel global\n",
        "print (\"Nama: %s\" % nama)\n",
        "print (\"Versi: %s\" % versi)\n",
        "\n",
        "# memanggil fungsi help()\n",
        "help()\n"
      ],
      "metadata": {
        "colab": {
          "base_uri": "https://localhost:8080/"
        },
        "id": "_uCibo7CIMV0",
        "outputId": "d40fcebf-e6ed-42c9-b58b-376d17a32842"
      },
      "execution_count": 27,
      "outputs": [
        {
          "output_type": "stream",
          "name": "stdout",
          "text": [
            "Nama: wulandari Maulina\n",
            "Versi: 1.0.0\n",
            "Nama: Programku\n",
            "Versi: 1.0.2\n"
          ]
        }
      ]
    },
    {
      "cell_type": "code",
      "source": [
        "# fungsi untuk menampilkan semua data\n",
        "def show_data():\n",
        "    if len(buku) <= 0:\n",
        "        print (\"BELUM ADA DATA\")\n",
        "    else:\n",
        "        for indeks in range(len(buku)):\n",
        "            print (\"[%d] %s\" % (indeks, buku[indeks]))\n"
      ],
      "metadata": {
        "id": "QYEHnzfbIyLw"
      },
      "execution_count": 30,
      "outputs": []
    },
    {
      "cell_type": "code",
      "source": [
        "# fungsi untuk menambah data\n",
        "def insert_data():\n",
        "    buku_baru = raw_input(\"Judul Buku: \")\n",
        "    buku.append(buku_baru)\n"
      ],
      "metadata": {
        "id": "oK8h7WjKJKds"
      },
      "execution_count": 31,
      "outputs": []
    },
    {
      "cell_type": "code",
      "source": [
        "# fungsi untuk edit data\n",
        "def edit_data():\n",
        "    show_data()\n",
        "    indeks = input(\"Inputkan ID buku: \")\n",
        "    if(indeks > len(buku)):\n",
        "        print (\"ID salah\")\n",
        "    else:\n",
        "        judul_baru = raw_input(\"Judul baru: \")\n",
        "        buku[indeks] = judul_baru\n"
      ],
      "metadata": {
        "id": "Pkysn2cuJP4H"
      },
      "execution_count": 33,
      "outputs": []
    },
    {
      "cell_type": "code",
      "source": [
        "# fungsi untuk menghapus data\n",
        "def delete_data():\n",
        "    show_data()\n",
        "    indeks = input(\"Inputkan ID buku: \")\n",
        "    if(indeks > len(buku)):\n",
        "        print (\"ID salah\")\n",
        "    else:\n",
        "        buku.remove(buku[indeks])\n"
      ],
      "metadata": {
        "id": "ZxJxbfQsJX47"
      },
      "execution_count": 34,
      "outputs": []
    },
    {
      "cell_type": "code",
      "source": [
        "def show_data():\n",
        "    print(\"Menampilkan data...\")\n",
        "\n",
        "def insert_data():\n",
        "    print(\"Menambahkan data...\")\n",
        "\n",
        "def edit_data():\n",
        "    print(\"Mengedit data...\")\n",
        "\n",
        "def delete_data():\n",
        "    print(\"Menghapus data...\")\n",
        "\n",
        "# fungsi untuk menampilkan menu\n",
        "def show_menu():\n",
        "    print(\"\\n\")\n",
        "    print(\"----------- MENU ----------\")\n",
        "    print(\"[1] Show Data\")\n",
        "    print(\"[2] Insert Data\")\n",
        "    print(\"[3] Edit Data\")\n",
        "    print(\"[4] Delete Data\")\n",
        "    print(\"[5] Exit\")\n",
        "\n",
        "    try:\n",
        "        menu = int(input(\"PILIH MENU> \"))  # convert input to int\n",
        "    except ValueError:\n",
        "        print(\"Input harus berupa angka!\")\n",
        "        return\n",
        "\n",
        "    print(\"\\n\")\n",
        "\n",
        "    if menu == 1:\n",
        "        show_data()\n",
        "    elif menu == 2:\n",
        "        insert_data()\n",
        "    elif menu == 3:\n",
        "        edit_data()\n",
        "    elif menu == 4:\n",
        "        delete_data()\n",
        "    elif menu == 5:\n",
        "        exit()\n",
        "    else:\n",
        "        print(\"Salah pilih!\")\n",
        "\n",
        "# Memanggil fungsi show_menu untuk menampilkan menu\n",
        "show_menu()\n"
      ],
      "metadata": {
        "colab": {
          "base_uri": "https://localhost:8080/"
        },
        "id": "6ybbQM0rJgYh",
        "outputId": "72f4a269-c0c8-4e97-cef6-1aa92e8eb04e"
      },
      "execution_count": 37,
      "outputs": [
        {
          "output_type": "stream",
          "name": "stdout",
          "text": [
            "\n",
            "\n",
            "----------- MENU ----------\n",
            "[1] Show Data\n",
            "[2] Insert Data\n",
            "[3] Edit Data\n",
            "[4] Delete Data\n",
            "[5] Exit\n",
            "PILIH MENU> 1\n",
            "\n",
            "\n",
            "Menampilkan data...\n"
          ]
        }
      ]
    },
    {
      "cell_type": "code",
      "source": [
        "# Variabel global untuk menyimpan data Buku\n",
        "buku = []\n",
        "\n",
        "\n",
        "# fungsi untuk menampilkan semua data\n",
        "def show_data():\n",
        "    if len(buku) <= 0:\n",
        "        print(\"BELUM ADA DATA\")\n",
        "    else:\n",
        "        for indeks in range(len(buku)):\n",
        "            print(\"[%d] %s\" % (indeks, buku[indeks]))\n",
        "\n",
        "\n",
        "# fungsi untuk menambah data\n",
        "def insert_data():\n",
        "    buku_baru = input(\"Judul Buku: \")\n",
        "    buku.append(buku_baru)\n",
        "\n",
        "\n",
        "# fungsi untuk edit data\n",
        "def edit_data():\n",
        "    show_data()\n",
        "    try:\n",
        "        indeks = int(input(\"Inputkan ID buku: \"))\n",
        "        if indeks >= len(buku) or indeks < 0:\n",
        "            print(\"ID salah\")\n",
        "        else:\n",
        "            judul_baru = input(\"Judul baru: \")\n",
        "            buku[indeks] = judul_baru\n",
        "    except ValueError:\n",
        "        print(\"Input harus berupa angka!\")\n",
        "\n",
        "\n",
        "# fungsi untuk menghapus data\n",
        "def delete_data():\n",
        "    show_data()\n",
        "    try:\n",
        "        indeks = int(input(\"Inputkan ID buku: \"))\n",
        "        if indeks >= len(buku) or indeks < 0:\n",
        "            print(\"ID salah\")\n",
        "        else:\n",
        "            buku.remove(buku[indeks])\n",
        "    except ValueError:\n",
        "        print(\"Input harus berupa angka!\")\n",
        "\n",
        "\n",
        "# fungsi untuk menampilkan menu\n",
        "def show_menu():\n",
        "    print(\"\\n\")\n",
        "    print(\"----------- MENU ----------\")\n",
        "    print(\"[1] Show Data\")\n",
        "    print(\"[2] Insert Data\")\n",
        "    print(\"[3] Edit Data\")\n",
        "    print(\"[4] Delete Data\")\n",
        "    print(\"[5] Exit\")\n",
        "\n",
        "    try:\n",
        "        menu = int(input(\"PILIH MENU> \"))\n",
        "    except ValueError:\n",
        "        print(\"Input harus berupa angka!\")\n",
        "        return\n",
        "\n",
        "    print(\"\\n\")\n",
        "\n",
        "    if menu == 1:\n",
        "        show_data()\n",
        "    elif menu == 2:\n",
        "        insert_data()\n",
        "    elif menu == 3:\n",
        "        edit_data()\n",
        "    elif menu == 4:\n",
        "        delete_data()\n",
        "    elif menu == 5:\n",
        "        exit()\n",
        "    else:\n",
        "        print(\"Salah pilih!\")\n",
        "\n",
        "\n",
        "if __name__ == \"__main__\":\n",
        "\n",
        "    while True:\n",
        "        show_menu()\n"
      ],
      "metadata": {
        "colab": {
          "base_uri": "https://localhost:8080/"
        },
        "id": "Mws3qx9QKauu",
        "outputId": "283aed40-11cb-45ed-9b20-290acd73914c"
      },
      "execution_count": null,
      "outputs": [
        {
          "output_type": "stream",
          "name": "stdout",
          "text": [
            "\n",
            "\n",
            "----------- MENU ----------\n",
            "[1] Show Data\n",
            "[2] Insert Data\n",
            "[3] Edit Data\n",
            "[4] Delete Data\n",
            "[5] Exit\n",
            "PILIH MENU> 1\n",
            "\n",
            "\n",
            "BELUM ADA DATA\n",
            "\n",
            "\n",
            "----------- MENU ----------\n",
            "[1] Show Data\n",
            "[2] Insert Data\n",
            "[3] Edit Data\n",
            "[4] Delete Data\n",
            "[5] Exit\n",
            "PILIH MENU> 2\n",
            "\n",
            "\n",
            "Judul Buku: laskar pelangi\n",
            "\n",
            "\n",
            "----------- MENU ----------\n",
            "[1] Show Data\n",
            "[2] Insert Data\n",
            "[3] Edit Data\n",
            "[4] Delete Data\n",
            "[5] Exit\n",
            "PILIH MENU> 1\n",
            "\n",
            "\n",
            "[0] laskar pelangi\n",
            "\n",
            "\n",
            "----------- MENU ----------\n",
            "[1] Show Data\n",
            "[2] Insert Data\n",
            "[3] Edit Data\n",
            "[4] Delete Data\n",
            "[5] Exit\n"
          ]
        }
      ]
    }
  ],
  "metadata": {
    "colab": {
      "name": "Welcome To Colab",
      "provenance": [],
      "include_colab_link": true
    },
    "kernelspec": {
      "display_name": "Python 3",
      "name": "python3"
    }
  },
  "nbformat": 4,
  "nbformat_minor": 0
}